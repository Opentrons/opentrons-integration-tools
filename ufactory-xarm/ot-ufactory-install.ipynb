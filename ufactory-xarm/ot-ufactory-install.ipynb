{
 "cells": [
  {
   "cell_type": "code",
   "execution_count": null,
   "metadata": {},
   "outputs": [],
   "source": [
    "import os\n",
    "import zipfile\n",
    "import subprocess\n",
    "import shlex\n",
    "\n",
    "\n",
    "# Unzip UFACTORY installation file\n",
    "parent_path = os.path.join(\"/\", \"var\", \"lib\", \"jupyter\", \"notebooks\")\n",
    "zip_name = \"xArm-Python-SDK-master.zip\"\n",
    "out_name = \"xArm-Python-SDK-master\"\n",
    "\n",
    "my_zipfile = zipfile.ZipFile(file=os.path.join(parent_path, zip_name))\n",
    "my_zipfile.extractall(path=parent_path)\n",
    "\n",
    "# Prepare disk for installation:\n",
    "# 1. Make read-write (goes back to read upon reboot)\n",
    "# 2. Uninstall \"pandas\" to free up space\n",
    "subprocess.run(shlex.split(\"mount -o remount, rw /\"))\n",
    "subprocess.run(shlex.split(\"pip uninstall pandas\"))\n",
    "\n",
    "# Run UFACTORY installation file\n",
    "run_file = os.path.join(parent_path, out_name, \"setup.py\")\n",
    "\n",
    "subprocess.run(\n",
    "\tshlex.split(\"python {} install\".format(run_file)),\n",
    "\tcwd=os.path.join(parent_path, out_name)\n",
    "\t)"
   ]
  }
 ],
 "metadata": {
  "kernelspec": {
   "display_name": "Python 3",
   "language": "python",
   "name": "python3"
  },
  "language_info": {
   "codemirror_mode": {
    "name": "ipython",
    "version": 3
   },
   "file_extension": ".py",
   "mimetype": "text/x-python",
   "name": "python",
   "nbconvert_exporter": "python",
   "pygments_lexer": "ipython3",
   "version": "3.7.1"
  }
 },
 "nbformat": 4,
 "nbformat_minor": 2
}
